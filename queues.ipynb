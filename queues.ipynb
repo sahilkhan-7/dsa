{
 "cells": [
  {
   "cell_type": "markdown",
   "metadata": {},
   "source": [
    "# <font color = 'yellow'><b>Queues</b></font>"
   ]
  },
  {
   "cell_type": "markdown",
   "metadata": {},
   "source": [
    "Queues are linear data structures that follow the FIFO (First In First Out) principle.\n",
    "The elements are added at the end of the queue and removed from the front of the queue.\n",
    "The operations are performed in the following order:\n",
    "\n",
    "`Enqueue`: Adds an element to the end of the queue.\n",
    "\n",
    "`Dequeue`: Removes an element from the front of the queue.\n",
    "\n",
    "`Front`: Returns the element at the front of the queue.\n",
    "\n",
    "`Rear`: Returns the element at the end of the queue.\n",
    "\n",
    "`IsEmpty`: Checks if the queue is empty.\n",
    "\n",
    "`IsFull`: Checks if the queue is full.  (This is not applicable for Python as the size of the queue can grow dynamically.)"
   ]
  },
  {
   "cell_type": "code",
   "execution_count": 7,
   "metadata": {},
   "outputs": [],
   "source": [
    "class Queue:\n",
    "    # constructor to initialize the queue\n",
    "    def __init__(self):\n",
    "        self.queue = []\n",
    "        \n",
    "    # enqueue function to add element to the queue\n",
    "    def enqueue(self, item):\n",
    "        self.queue.append(item)\n",
    "        \n",
    "    # dequeue function to remove element from the queue\n",
    "    def dequeue(self):\n",
    "        return self.queue.pop(0)\n",
    "    \n",
    "    # function to check if the queue is empty\n",
    "    def is_empty(self):\n",
    "        return len(self.queue) == 0\n",
    "    \n",
    "    # function to get the size of the queue\n",
    "    def size(self):\n",
    "        return len(self.queue)\n",
    "    \n",
    "    # function to get the front element of the queue\n",
    "    def __str__(self):\n",
    "        return str(self.queue)\n",
    "    "
   ]
  },
  {
   "cell_type": "code",
   "execution_count": 8,
   "metadata": {},
   "outputs": [
    {
     "name": "stdout",
     "output_type": "stream",
     "text": [
      "[1, 2, 3]\n",
      "1\n",
      "[2, 3]\n",
      "False\n",
      "2\n"
     ]
    }
   ],
   "source": [
    "q = Queue()\n",
    "q.enqueue(1)\n",
    "q.enqueue(2)\n",
    "q.enqueue(3)\n",
    "print(q)\n",
    "print(q.dequeue())\n",
    "print(q)\n",
    "print(q.is_empty())\n",
    "print(q.size())"
   ]
  },
  {
   "cell_type": "code",
   "execution_count": null,
   "metadata": {},
   "outputs": [],
   "source": []
  }
 ],
 "metadata": {
  "kernelspec": {
   "display_name": "Python 3",
   "language": "python",
   "name": "python3"
  },
  "language_info": {
   "codemirror_mode": {
    "name": "ipython",
    "version": 3
   },
   "file_extension": ".py",
   "mimetype": "text/x-python",
   "name": "python",
   "nbconvert_exporter": "python",
   "pygments_lexer": "ipython3",
   "version": "3.11.7"
  }
 },
 "nbformat": 4,
 "nbformat_minor": 2
}
