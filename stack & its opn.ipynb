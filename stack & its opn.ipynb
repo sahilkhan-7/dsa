{
 "cells": [
  {
   "cell_type": "markdown",
   "metadata": {},
   "source": [
    "# Stack\n",
    "\n",
    "#### Stack is linear data structure that works on the LIFO (Last in first out) principle.\n",
    "\n",
    "## Stack Operations are :\n",
    "#### push() - add element to the top of the stack\n",
    "#### pop() - remove element from the top of the stack\n",
    "#### peek() - return the top element of the stack\n",
    "#### size() - return the size of the stack\n",
    "#### is_empty() - return True if the stack is empty, False otherwise"
   ]
  },
  {
   "cell_type": "code",
   "execution_count": 6,
   "metadata": {},
   "outputs": [],
   "source": [
    "# implementing stack in python\n",
    "\n",
    "class Stack:\n",
    "    def __init__(self):\n",
    "        self.stack = []\n",
    "\n",
    "    def push(self, data): # push data into the stack\n",
    "        self.stack.append(data)\n",
    "\n",
    "    def pop(self): # pop data from the stack\n",
    "        if len(self.stack) < 1:\n",
    "            return None\n",
    "        last = self.stack[-1]\n",
    "        self.stack = self.stack[:len(self.stack) - 1]\n",
    "        return last\n",
    "\n",
    "    def peek(self): # get the top element of the stack\n",
    "        if len(self.stack) < 1:\n",
    "            return None\n",
    "        return self.stack[-1]\n",
    "\n",
    "    def size(self): # get the size of the stack\n",
    "        return len(self.stack)\n",
    "\n",
    "    def is_empty(self): # check if the stack is empty\n",
    "        return len(self.stack) == 0\n",
    "\n",
    "    def __str__(self): # the string representation of the stack\n",
    "        return str(self.stack)\n"
   ]
  },
  {
   "cell_type": "code",
   "execution_count": 16,
   "metadata": {},
   "outputs": [],
   "source": [
    "s1 = Stack()\n",
    "s1.push(1)\n",
    "s1.push(3)\n",
    "s1.push(1)\n",
    "s1.push(5)\n",
    "s1.push(1)\n",
    "s1.push(7)"
   ]
  },
  {
   "cell_type": "code",
   "execution_count": 17,
   "metadata": {},
   "outputs": [
    {
     "name": "stdout",
     "output_type": "stream",
     "text": [
      "[1, 3, 1, 5, 1, 7]\n"
     ]
    }
   ],
   "source": [
    "print(s1)"
   ]
  },
  {
   "cell_type": "code",
   "execution_count": 18,
   "metadata": {},
   "outputs": [
    {
     "name": "stdout",
     "output_type": "stream",
     "text": [
      "7 [1, 3, 1, 5, 1]\n"
     ]
    }
   ],
   "source": [
    "last = s1.pop()\n",
    "print(last, s1)"
   ]
  },
  {
   "cell_type": "code",
   "execution_count": 19,
   "metadata": {},
   "outputs": [
    {
     "data": {
      "text/plain": [
       "1"
      ]
     },
     "execution_count": 19,
     "metadata": {},
     "output_type": "execute_result"
    }
   ],
   "source": [
    "s1.pop()"
   ]
  },
  {
   "cell_type": "code",
   "execution_count": 20,
   "metadata": {},
   "outputs": [
    {
     "data": {
      "text/plain": [
       "5"
      ]
     },
     "execution_count": 20,
     "metadata": {},
     "output_type": "execute_result"
    }
   ],
   "source": [
    "s1.peek()"
   ]
  },
  {
   "cell_type": "code",
   "execution_count": 21,
   "metadata": {},
   "outputs": [
    {
     "data": {
      "text/plain": [
       "4"
      ]
     },
     "execution_count": 21,
     "metadata": {},
     "output_type": "execute_result"
    }
   ],
   "source": [
    "s1.size()"
   ]
  },
  {
   "cell_type": "code",
   "execution_count": 22,
   "metadata": {},
   "outputs": [
    {
     "name": "stdout",
     "output_type": "stream",
     "text": [
      "5\n",
      "1\n",
      "3\n",
      "1\n"
     ]
    }
   ],
   "source": [
    "for i in range(len(s1.stack)):\n",
    "    print(s1.pop())"
   ]
  },
  {
   "cell_type": "code",
   "execution_count": 14,
   "metadata": {},
   "outputs": [
    {
     "data": {
      "text/plain": [
       "True"
      ]
     },
     "execution_count": 14,
     "metadata": {},
     "output_type": "execute_result"
    }
   ],
   "source": [
    "s1.is_empty()"
   ]
  },
  {
   "cell_type": "code",
   "execution_count": null,
   "metadata": {},
   "outputs": [],
   "source": []
  }
 ],
 "metadata": {
  "kernelspec": {
   "display_name": "Python 3",
   "language": "python",
   "name": "python3"
  },
  "language_info": {
   "codemirror_mode": {
    "name": "ipython",
    "version": 3
   },
   "file_extension": ".py",
   "mimetype": "text/x-python",
   "name": "python",
   "nbconvert_exporter": "python",
   "pygments_lexer": "ipython3",
   "version": "3.11.8"
  }
 },
 "nbformat": 4,
 "nbformat_minor": 2
}
