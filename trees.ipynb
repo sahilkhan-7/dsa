{
 "cells": [
  {
   "cell_type": "code",
   "execution_count": 1,
   "metadata": {},
   "outputs": [
    {
     "name": "stdout",
     "output_type": "stream",
     "text": [
      "0\n",
      "1\n",
      "2\n",
      "3\n",
      "4\n",
      "5\n",
      "6\n",
      "7\n",
      "8\n",
      "9\n",
      "10\n",
      "1 2 4 5 3 \n",
      "4 2 5 1 3 \n",
      "4 5 2 3 1 \n"
     ]
    }
   ],
   "source": [
    "class Node:\n",
    "    \n",
    "    def __init__(self, key) -> None:\n",
    "        self.left = None\n",
    "        self.right = None\n",
    "        self.value = key\n",
    "        \n",
    "    def preorder(self, root):\n",
    "        if root:\n",
    "            print(root.value, end=' ')\n",
    "            self.preorder(root.left)\n",
    "            self.preorder(root.right)\n",
    "        \n",
    "    def inorder(self, root):\n",
    "        if root:\n",
    "            self.inorder(root.left)\n",
    "            print(root.value, end=' ')\n",
    "            self.inorder(root.right)\n",
    "            \n",
    "    def postorder(self, root):\n",
    "        if root:\n",
    "            self.postorder(root.left)\n",
    "            self.postorder(root.right)\n",
    "            print(root.value, end=' ')   \n",
    "        \n",
    "class BinaryTree:\n",
    "    def __init__(self) -> None:\n",
    "        self.index = -1\n",
    "    \n",
    "    def build(self, arr):\n",
    "        self.index += 1\n",
    "        print(self.index)\n",
    "        if arr[self.index] == -1:\n",
    "            return None\n",
    "\n",
    "        root = Node(arr[self.index])\n",
    "        root.left = self.build(arr)\n",
    "        root.right = self.build(arr)\n",
    "        return root\n",
    "    \n",
    "    def preorder(self, root):\n",
    "        node = Node(None)\n",
    "        node.preorder(root)\n",
    "        print()\n",
    "        \n",
    "    def inorder(self, root):\n",
    "        node = Node(None)\n",
    "        node.inorder(root)\n",
    "        print()\n",
    "    \n",
    "    def postorder(self, root):\n",
    "        node = Node(None)\n",
    "        node.postorder(root)\n",
    "        print()\n",
    "    \n",
    "    \n",
    "arr = [1, 2, 4, -1, -1, 5, -1, -1, 3, -1, -1]\n",
    "tree = BinaryTree()\n",
    "root = tree.build(arr)\n",
    "tree.preorder(root)\n",
    "tree.inorder(root)\n",
    "tree.postorder(root)"
   ]
  },
  {
   "cell_type": "code",
   "execution_count": 2,
   "metadata": {},
   "outputs": [],
   "source": [
    "from collections import deque"
   ]
  },
  {
   "cell_type": "code",
   "execution_count": 3,
   "metadata": {},
   "outputs": [],
   "source": [
    "class Node:\n",
    "    def __init__(self, key) -> None:\n",
    "        self.left = self.right = None\n",
    "        self.value = key\n",
    "    \n",
    "class BinaryTree:\n",
    "    def __init__(self) -> None:\n",
    "        self.index = -1\n",
    "        \n",
    "    def build_tree(self, arr):\n",
    "        self.index += 1\n",
    "        \n",
    "        if self.index > len(arr) or arr[self.index] == -1:\n",
    "            return None\n",
    "\n",
    "        root = Node(arr[self.index])\n",
    "        root.left = self.build_tree(arr)\n",
    "        root.right = self.build_tree(arr)\n",
    "        \n",
    "        return root\n",
    "    \n",
    "    def preorder(self, root):\n",
    "        if root:\n",
    "            print(root.value, end=' ')\n",
    "            self.preorder(root.left)\n",
    "            self.preorder(root.right)\n",
    "        \n",
    "    def inorder(self, root):\n",
    "        if root:\n",
    "            self.inorder(root.left)\n",
    "            print(root.value, end=' ')\n",
    "            self.inorder(root.right)\n",
    "    \n",
    "    def postorder(self, root):\n",
    "        if root:\n",
    "            self.postorder(root.left)\n",
    "            self.postorder(root.right)\n",
    "            print(root.value, end=' ')\n",
    "            \n",
    "    def levelorder(self, root):\n",
    "        \n",
    "        if not root:\n",
    "            return None\n",
    "        \n",
    "        que = [root, None]\n",
    "        \n",
    "        while que:\n",
    "            root = que.pop(0)\n",
    "            \n",
    "            if root is None:\n",
    "                print()\n",
    "                if que:\n",
    "                    que.append(None)\n",
    "            \n",
    "            else:\n",
    "                print(root.value, end=' ')\n",
    "                if root.left:\n",
    "                    que.append(root.left) \n",
    "                if root.right:\n",
    "                    que.append(root.right)\n",
    "                    \n",
    "                    \n",
    "    def levelorder2(self, root):\n",
    "        if root:\n",
    "            return None\n",
    "        \n",
    "        que = deque([root, None])\n",
    "        \n",
    "        while que:\n",
    "            node = que.popleft()\n",
    "            if node is None:\n",
    "                print()\n",
    "                if not que:\n",
    "                    break\n",
    "                else:\n",
    "                    que.append(None) \n",
    "                    \n",
    "            else:\n",
    "                print(node.value, end=' ')\n",
    "                if node.left != None:\n",
    "                    que.append(node.left)  \n",
    "                if node.right != None:\n",
    "                    que.append(node.right)  \n",
    "                    \n"
   ]
  },
  {
   "cell_type": "code",
   "execution_count": 4,
   "metadata": {},
   "outputs": [],
   "source": [
    "values = [1, 2, 4, -1, -1, 5, -1, -1, 3, -1, 6, -1, -1]\n",
    "bt = BinaryTree()\n",
    "bt.root = bt.build_tree(values)"
   ]
  },
  {
   "cell_type": "code",
   "execution_count": 5,
   "metadata": {},
   "outputs": [
    {
     "name": "stdout",
     "output_type": "stream",
     "text": [
      "Preorder Traversal:  1 2 4 5 3 6 \n",
      "Inorder Traversal:  4 2 5 1 3 6 \n",
      "Postorder Traversal:  4 5 2 6 3 1 "
     ]
    }
   ],
   "source": [
    "print(\"Preorder Traversal: \", end=' ')\n",
    "bt.preorder(bt.root)\n",
    "print()\n",
    "print(\"Inorder Traversal: \", end=' ')\n",
    "bt.inorder(bt.root)\n",
    "print()\n",
    "print(\"Postorder Traversal: \", end=' ')\n",
    "bt.postorder(bt.root)"
   ]
  },
  {
   "cell_type": "code",
   "execution_count": 6,
   "metadata": {},
   "outputs": [
    {
     "name": "stdout",
     "output_type": "stream",
     "text": [
      "Level Traversal: \n",
      "1 \n",
      "2 3 \n",
      "4 5 6 \n"
     ]
    }
   ],
   "source": [
    "print(\"Level Traversal: \")\n",
    "bt.levelorder(bt.root)"
   ]
  },
  {
   "cell_type": "code",
   "execution_count": 7,
   "metadata": {},
   "outputs": [],
   "source": [
    "bt.levelorder2(bt.root)"
   ]
  },
  {
   "cell_type": "code",
   "execution_count": 28,
   "metadata": {},
   "outputs": [],
   "source": [
    "class Node:\n",
    "    def __init__(self, val) -> None:\n",
    "        self.left = self.right = None\n",
    "        self.val = val\n",
    "    \n",
    "    \n",
    "def insert(root, value):\n",
    "    if root is None:\n",
    "        root = Node(value)\n",
    "        \n",
    "    if root.val > value:\n",
    "        root.left = insert(root.left, value)\n",
    "    elif root.val < value:\n",
    "        root.right = insert(root.right, value)\n",
    "        \n",
    "    return root\n",
    "\n",
    "def find_successor(root):\n",
    "    value = root.right\n",
    "    \n",
    "    while(value is not None) and (value.left is not None):\n",
    "        value = value.left\n",
    "        \n",
    "    return value\n",
    "\n",
    "\n",
    "def delete(root, ele):\n",
    "    if root is None:\n",
    "        return root\n",
    "    \n",
    "    if root.val < ele:\n",
    "        root.right = delete(root.right, ele)\n",
    "    \n",
    "    elif root.val > ele:\n",
    "        root.left = delete(root.left, ele)\n",
    "        \n",
    "    else:\n",
    "        if root.left is None:\n",
    "            return root.right\n",
    "        elif root.right is None:\n",
    "            return root.left\n",
    "        \n",
    "        successor = find_successor(root)\n",
    "        root.val = successor.val\n",
    "        root.right = delete(root.right, successor.val)\n",
    "        \n",
    "    return root         \n",
    "    \n",
    "\n",
    "def search(root, ele):\n",
    "    flag = False\n",
    "    \n",
    "    if root is None:\n",
    "        return False\n",
    "    \n",
    "    if root.val == ele:\n",
    "        flag = True\n",
    "         \n",
    "    elif root.val > ele:\n",
    "        flag = search(root.left, ele)\n",
    "        \n",
    "    else:\n",
    "        flag = search(root.right, ele)\n",
    "        \n",
    "    return flag\n",
    "\n",
    "def traverse(root):\n",
    "    \n",
    "    if root:\n",
    "        print(root.val, end=' ')\n",
    "        traverse(root.left)\n",
    "        traverse(root.right)\n",
    "        \n"
   ]
  },
  {
   "cell_type": "code",
   "execution_count": 30,
   "metadata": {},
   "outputs": [
    {
     "name": "stdout",
     "output_type": "stream",
     "text": [
      "5 2 3 4 7 \n",
      "True\n"
     ]
    }
   ],
   "source": [
    "root = Node(5)\n",
    "root = insert(root, 2)\n",
    "root = insert(root, 7)\n",
    "root = insert(root, 3)\n",
    "root = insert(root, 4)\n",
    "\n",
    "        \n",
    "traverse(root)\n",
    "print()\n",
    "print(search(root, 7))"
   ]
  },
  {
   "cell_type": "code",
   "execution_count": 31,
   "metadata": {},
   "outputs": [
    {
     "data": {
      "text/plain": [
       "<__main__.Node at 0x1e5ea260e10>"
      ]
     },
     "execution_count": 31,
     "metadata": {},
     "output_type": "execute_result"
    }
   ],
   "source": [
    "delete(root, 4)"
   ]
  },
  {
   "cell_type": "code",
   "execution_count": 33,
   "metadata": {},
   "outputs": [
    {
     "name": "stdout",
     "output_type": "stream",
     "text": [
      "5 2 3 7 "
     ]
    }
   ],
   "source": [
    "traverse(root)"
   ]
  },
  {
   "cell_type": "code",
   "execution_count": 34,
   "metadata": {},
   "outputs": [
    {
     "name": "stdout",
     "output_type": "stream",
     "text": [
      "5 3 7 "
     ]
    }
   ],
   "source": [
    "delete(root, 2)\n",
    "traverse(root)"
   ]
  },
  {
   "cell_type": "code",
   "execution_count": null,
   "metadata": {},
   "outputs": [],
   "source": []
  }
 ],
 "metadata": {
  "kernelspec": {
   "display_name": "Python 3",
   "language": "python",
   "name": "python3"
  },
  "language_info": {
   "codemirror_mode": {
    "name": "ipython",
    "version": 3
   },
   "file_extension": ".py",
   "mimetype": "text/x-python",
   "name": "python",
   "nbconvert_exporter": "python",
   "pygments_lexer": "ipython3",
   "version": "3.11.8"
  }
 },
 "nbformat": 4,
 "nbformat_minor": 2
}
